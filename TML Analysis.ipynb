{
 "cells": [
  {
   "cell_type": "markdown",
   "metadata": {},
   "source": [
    "# TSL DATA ANALYSIS"
   ]
  },
  {
   "cell_type": "raw",
   "metadata": {},
   "source": [
    "First, Band KM column is created in Microsoft Excel uisng the function:\n",
    "=IF(AC2<50,\"50Less\", IF(AC2<=200,\"50-200KM\", IF(AC2<=500,\"200-500KM\",IF(AC2<=1000,\"500-1000Kms\",\"Above 1000kms\"))))"
   ]
  },
  {
   "cell_type": "code",
   "execution_count": 1,
   "metadata": {},
   "outputs": [
    {
     "name": "stderr",
     "output_type": "stream",
     "text": [
      "C:\\Users\\Public\\DSNanaconda\\lib\\site-packages\\statsmodels\\tools\\_testing.py:19: FutureWarning: pandas.util.testing is deprecated. Use the functions in the public API at pandas.testing instead.\n",
      "  import pandas.util.testing as tm\n"
     ]
    }
   ],
   "source": [
    "#import required libraries\n",
    "import pandas as pd #for data processing and reading\n",
    "import numpy as np #for linear algebra processing\n",
    "import matplotlib.pyplot as plt #For visualization\n",
    "import seaborn as sns #for visualization"
   ]
  },
  {
   "cell_type": "code",
   "execution_count": 2,
   "metadata": {},
   "outputs": [],
   "source": [
    "#loading the excel file\n",
    "df=pd.read_excel('tsldata.xlsx', sheet_name='Data')"
   ]
  },
  {
   "cell_type": "code",
   "execution_count": 3,
   "metadata": {},
   "outputs": [
    {
     "data": {
      "text/html": [
       "<div>\n",
       "<style scoped>\n",
       "    .dataframe tbody tr th:only-of-type {\n",
       "        vertical-align: middle;\n",
       "    }\n",
       "\n",
       "    .dataframe tbody tr th {\n",
       "        vertical-align: top;\n",
       "    }\n",
       "\n",
       "    .dataframe thead th {\n",
       "        text-align: right;\n",
       "    }\n",
       "</style>\n",
       "<table border=\"1\" class=\"dataframe\">\n",
       "  <thead>\n",
       "    <tr style=\"text-align: right;\">\n",
       "      <th></th>\n",
       "      <th>No.</th>\n",
       "      <th>Loading Date</th>\n",
       "      <th>Dispatch Date</th>\n",
       "      <th>Expected Delivery Date</th>\n",
       "      <th>Actual Delivery Date</th>\n",
       "      <th>TNo</th>\n",
       "      <th>Reg. No.</th>\n",
       "      <th>TK No.</th>\n",
       "      <th>Contract</th>\n",
       "      <th>Driver's No.</th>\n",
       "      <th>...</th>\n",
       "      <th>Destination</th>\n",
       "      <th>Client</th>\n",
       "      <th>Trip Type</th>\n",
       "      <th>Issuing Station</th>\n",
       "      <th>Qty Issued</th>\n",
       "      <th>Docket No.</th>\n",
       "      <th>Diesel Trip</th>\n",
       "      <th>KM Covered</th>\n",
       "      <th>Cost Of Diesel</th>\n",
       "      <th>Km Bands</th>\n",
       "    </tr>\n",
       "  </thead>\n",
       "  <tbody>\n",
       "    <tr>\n",
       "      <th>0</th>\n",
       "      <td>1</td>\n",
       "      <td>2017-01-01</td>\n",
       "      <td>2017-01-01</td>\n",
       "      <td>2017-01-01</td>\n",
       "      <td>2017-01-01</td>\n",
       "      <td>T358</td>\n",
       "      <td>NaN</td>\n",
       "      <td>NaN</td>\n",
       "      <td>TEXACO-EVAP</td>\n",
       "      <td>11296</td>\n",
       "      <td>...</td>\n",
       "      <td>VI</td>\n",
       "      <td>TEXACO</td>\n",
       "      <td>Local</td>\n",
       "      <td>NaN</td>\n",
       "      <td>15</td>\n",
       "      <td>NaN</td>\n",
       "      <td>NaN</td>\n",
       "      <td>15</td>\n",
       "      <td>50</td>\n",
       "      <td>Less than 50kms</td>\n",
       "    </tr>\n",
       "    <tr>\n",
       "      <th>1</th>\n",
       "      <td>2</td>\n",
       "      <td>2017-01-01</td>\n",
       "      <td>2017-01-01</td>\n",
       "      <td>2017-01-01</td>\n",
       "      <td>2017-01-01</td>\n",
       "      <td>T358</td>\n",
       "      <td>NaN</td>\n",
       "      <td>NaN</td>\n",
       "      <td>TEXACO-EVAP</td>\n",
       "      <td>11296</td>\n",
       "      <td>...</td>\n",
       "      <td>VI</td>\n",
       "      <td>TEXACO</td>\n",
       "      <td>Local</td>\n",
       "      <td>NaN</td>\n",
       "      <td>-</td>\n",
       "      <td>NaN</td>\n",
       "      <td>NaN</td>\n",
       "      <td>-</td>\n",
       "      <td>-</td>\n",
       "      <td>Above 1000kms</td>\n",
       "    </tr>\n",
       "    <tr>\n",
       "      <th>2</th>\n",
       "      <td>3</td>\n",
       "      <td>2017-01-01</td>\n",
       "      <td>2017-01-01</td>\n",
       "      <td>2017-01-01</td>\n",
       "      <td>2017-01-01</td>\n",
       "      <td>T614</td>\n",
       "      <td>NaN</td>\n",
       "      <td>NaN</td>\n",
       "      <td>NAIJA CEMENT</td>\n",
       "      <td>12497</td>\n",
       "      <td>...</td>\n",
       "      <td>PAPALANTO</td>\n",
       "      <td>NAIJA CEMENT</td>\n",
       "      <td>LOCAL</td>\n",
       "      <td>NAIJA CEMENT</td>\n",
       "      <td>52.2</td>\n",
       "      <td>441044</td>\n",
       "      <td>NaN</td>\n",
       "      <td>52.2</td>\n",
       "      <td>116</td>\n",
       "      <td>50 - 200kms</td>\n",
       "    </tr>\n",
       "    <tr>\n",
       "      <th>3</th>\n",
       "      <td>4</td>\n",
       "      <td>2017-01-01</td>\n",
       "      <td>2017-01-01</td>\n",
       "      <td>2017-01-01</td>\n",
       "      <td>2017-01-01</td>\n",
       "      <td>T644</td>\n",
       "      <td>NaN</td>\n",
       "      <td>NaN</td>\n",
       "      <td>NAIJA CEMENT</td>\n",
       "      <td>12575</td>\n",
       "      <td>...</td>\n",
       "      <td>OREGUN</td>\n",
       "      <td>NAIJA CEMENT</td>\n",
       "      <td>INTERDISTRICT</td>\n",
       "      <td>NAIJA CEMENT</td>\n",
       "      <td>70.2</td>\n",
       "      <td>440392</td>\n",
       "      <td>NaN</td>\n",
       "      <td>70.2</td>\n",
       "      <td>156</td>\n",
       "      <td>50 - 200kms</td>\n",
       "    </tr>\n",
       "    <tr>\n",
       "      <th>4</th>\n",
       "      <td>5</td>\n",
       "      <td>2017-01-01</td>\n",
       "      <td>2017-01-01</td>\n",
       "      <td>2017-01-01</td>\n",
       "      <td>2017-01-01</td>\n",
       "      <td>T619</td>\n",
       "      <td>NaN</td>\n",
       "      <td>NaN</td>\n",
       "      <td>NAIJA CEMENT</td>\n",
       "      <td>12301</td>\n",
       "      <td>...</td>\n",
       "      <td>OREGUN</td>\n",
       "      <td>NAIJA CEMENT</td>\n",
       "      <td>INTERDISTRICT</td>\n",
       "      <td>NAIJA CEMENT</td>\n",
       "      <td>70.2</td>\n",
       "      <td>440387</td>\n",
       "      <td>NaN</td>\n",
       "      <td>70.2</td>\n",
       "      <td>156</td>\n",
       "      <td>50 - 200kms</td>\n",
       "    </tr>\n",
       "  </tbody>\n",
       "</table>\n",
       "<p>5 rows × 31 columns</p>\n",
       "</div>"
      ],
      "text/plain": [
       "   No. Loading Date Dispatch Date Expected Delivery Date Actual Delivery Date  \\\n",
       "0    1   2017-01-01    2017-01-01             2017-01-01           2017-01-01   \n",
       "1    2   2017-01-01    2017-01-01             2017-01-01           2017-01-01   \n",
       "2    3   2017-01-01    2017-01-01             2017-01-01           2017-01-01   \n",
       "3    4   2017-01-01    2017-01-01             2017-01-01           2017-01-01   \n",
       "4    5   2017-01-01    2017-01-01             2017-01-01           2017-01-01   \n",
       "\n",
       "    TNo  Reg. No.  TK No.      Contract  Driver's No.  ... Destination  \\\n",
       "0  T358       NaN     NaN   TEXACO-EVAP         11296  ...          VI   \n",
       "1  T358       NaN     NaN   TEXACO-EVAP         11296  ...          VI   \n",
       "2  T614       NaN     NaN  NAIJA CEMENT         12497  ...   PAPALANTO   \n",
       "3  T644       NaN     NaN  NAIJA CEMENT         12575  ...      OREGUN   \n",
       "4  T619       NaN     NaN  NAIJA CEMENT         12301  ...      OREGUN   \n",
       "\n",
       "         Client      Trip Type Issuing Station            Qty Issued  \\\n",
       "0        TEXACO          Local             NaN                    15   \n",
       "1        TEXACO          Local             NaN                   -     \n",
       "2  NAIJA CEMENT          LOCAL    NAIJA CEMENT                  52.2   \n",
       "3  NAIJA CEMENT  INTERDISTRICT    NAIJA CEMENT                  70.2   \n",
       "4  NAIJA CEMENT  INTERDISTRICT    NAIJA CEMENT                  70.2   \n",
       "\n",
       "   Docket No.  Diesel Trip            KM Covered          Cost Of Diesel  \\\n",
       "0         NaN          NaN                    15                      50   \n",
       "1         NaN          NaN                   -                       -     \n",
       "2      441044          NaN                  52.2                     116   \n",
       "3      440392          NaN                  70.2                     156   \n",
       "4      440387          NaN                  70.2                     156   \n",
       "\n",
       "          Km Bands  \n",
       "0  Less than 50kms  \n",
       "1    Above 1000kms  \n",
       "2      50 - 200kms  \n",
       "3      50 - 200kms  \n",
       "4      50 - 200kms  \n",
       "\n",
       "[5 rows x 31 columns]"
      ]
     },
     "execution_count": 3,
     "metadata": {},
     "output_type": "execute_result"
    }
   ],
   "source": [
    "df.head()"
   ]
  },
  {
   "cell_type": "code",
   "execution_count": 4,
   "metadata": {},
   "outputs": [
    {
     "data": {
      "text/plain": [
       "(12405, 31)"
      ]
     },
     "execution_count": 4,
     "metadata": {},
     "output_type": "execute_result"
    }
   ],
   "source": [
    "#Finding and knowing the shape(size) of the dataset\n",
    "df.shape"
   ]
  },
  {
   "cell_type": "code",
   "execution_count": 5,
   "metadata": {},
   "outputs": [
    {
     "name": "stdout",
     "output_type": "stream",
     "text": [
      "<class 'pandas.core.frame.DataFrame'>\n",
      "RangeIndex: 12405 entries, 0 to 12404\n",
      "Data columns (total 31 columns):\n",
      " #   Column                  Non-Null Count  Dtype         \n",
      "---  ------                  --------------  -----         \n",
      " 0   No.                     12405 non-null  int64         \n",
      " 1   Loading Date            12405 non-null  datetime64[ns]\n",
      " 2   Dispatch Date           12405 non-null  datetime64[ns]\n",
      " 3   Expected Delivery Date  12405 non-null  datetime64[ns]\n",
      " 4   Actual Delivery Date    12405 non-null  datetime64[ns]\n",
      " 5   TNo                     12405 non-null  object        \n",
      " 6   Reg. No.                0 non-null      float64       \n",
      " 7   TK No.                  0 non-null      float64       \n",
      " 8   Contract                12405 non-null  object        \n",
      " 9   Driver's No.            12405 non-null  int64         \n",
      " 10  Driver's Name           12405 non-null  object        \n",
      " 11  Logistics Coord.        11032 non-null  object        \n",
      " 12  Loading Depot           12405 non-null  object        \n",
      " 13  Product                 12405 non-null  object        \n",
      " 14  Waybill                 10999 non-null  object        \n",
      " 15  Qty Loaded              12405 non-null  int64         \n",
      " 16  Qty Delivered           12405 non-null  int64         \n",
      " 17  Unit Rate               12168 non-null  float64       \n",
      " 18  Sales Revenue           12405 non-null  object        \n",
      " 19  Trip Allowance          11429 non-null  object        \n",
      " 20  Loading Fee             10759 non-null  object        \n",
      " 21  Destination             12405 non-null  object        \n",
      " 22  Client                  12253 non-null  object        \n",
      " 23  Trip Type               12374 non-null  object        \n",
      " 24  Issuing Station         8737 non-null   object        \n",
      " 25  Qty Issued              12405 non-null  object        \n",
      " 26  Docket No.              6401 non-null   object        \n",
      " 27  Diesel Trip             10081 non-null  object        \n",
      " 28  KM Covered              12405 non-null  object        \n",
      " 29  Cost Of Diesel          12404 non-null  object        \n",
      " 30  Km Bands                12405 non-null  object        \n",
      "dtypes: datetime64[ns](4), float64(3), int64(4), object(20)\n",
      "memory usage: 2.9+ MB\n",
      "None\n"
     ]
    }
   ],
   "source": [
    "print(df.info())"
   ]
  },
  {
   "cell_type": "code",
   "execution_count": 6,
   "metadata": {},
   "outputs": [],
   "source": [
    "#Changing the object datatype to float\n",
    "df['Sales Revenue']=pd.to_numeric(df['Sales Revenue'],errors='coerce')\n",
    "df['Trip Allowance']=pd.to_numeric(df['Trip Allowance'],errors='coerce')\n",
    "df['Loading Fee']=pd.to_numeric(df['Loading Fee'],errors='coerce')\n",
    "df['Qty Issued']=pd.to_numeric(df['Qty Issued'],errors='coerce')\n",
    "df['KM Covered']=pd.to_numeric(df['KM Covered'],errors='coerce')\n",
    "df['Cost Of Diesel']=pd.to_numeric(df['Cost Of Diesel'],errors='coerce')\n",
    "df['Diesel Trip']=pd.to_numeric(df['Diesel Trip'],errors='coerce')"
   ]
  },
  {
   "cell_type": "code",
   "execution_count": 7,
   "metadata": {},
   "outputs": [
    {
     "name": "stdout",
     "output_type": "stream",
     "text": [
      "<class 'pandas.core.frame.DataFrame'>\n",
      "RangeIndex: 12405 entries, 0 to 12404\n",
      "Data columns (total 31 columns):\n",
      " #   Column                  Non-Null Count  Dtype         \n",
      "---  ------                  --------------  -----         \n",
      " 0   No.                     12405 non-null  int64         \n",
      " 1   Loading Date            12405 non-null  datetime64[ns]\n",
      " 2   Dispatch Date           12405 non-null  datetime64[ns]\n",
      " 3   Expected Delivery Date  12405 non-null  datetime64[ns]\n",
      " 4   Actual Delivery Date    12405 non-null  datetime64[ns]\n",
      " 5   TNo                     12405 non-null  object        \n",
      " 6   Reg. No.                0 non-null      float64       \n",
      " 7   TK No.                  0 non-null      float64       \n",
      " 8   Contract                12405 non-null  object        \n",
      " 9   Driver's No.            12405 non-null  int64         \n",
      " 10  Driver's Name           12405 non-null  object        \n",
      " 11  Logistics Coord.        11032 non-null  object        \n",
      " 12  Loading Depot           12405 non-null  object        \n",
      " 13  Product                 12405 non-null  object        \n",
      " 14  Waybill                 10999 non-null  object        \n",
      " 15  Qty Loaded              12405 non-null  int64         \n",
      " 16  Qty Delivered           12405 non-null  int64         \n",
      " 17  Unit Rate               12168 non-null  float64       \n",
      " 18  Sales Revenue           12403 non-null  float64       \n",
      " 19  Trip Allowance          11254 non-null  float64       \n",
      " 20  Loading Fee             10436 non-null  float64       \n",
      " 21  Destination             12405 non-null  object        \n",
      " 22  Client                  12253 non-null  object        \n",
      " 23  Trip Type               12374 non-null  object        \n",
      " 24  Issuing Station         8737 non-null   object        \n",
      " 25  Qty Issued              12262 non-null  float64       \n",
      " 26  Docket No.              6401 non-null   object        \n",
      " 27  Diesel Trip             9971 non-null   float64       \n",
      " 28  KM Covered              12284 non-null  float64       \n",
      " 29  Cost Of Diesel          12260 non-null  float64       \n",
      " 30  Km Bands                12405 non-null  object        \n",
      "dtypes: datetime64[ns](4), float64(10), int64(4), object(13)\n",
      "memory usage: 2.9+ MB\n",
      "None\n"
     ]
    }
   ],
   "source": [
    "print(df.info())"
   ]
  },
  {
   "cell_type": "raw",
   "metadata": {},
   "source": [
    "So the dataset comprise of 31 columns of the dataset features and 12405 rows of the columns values.\n",
    "We can identify the categorical features and Numerical features\n",
    "Also looking at the dataset information, some of the number values for some of the features are having object data type(dtypes)."
   ]
  },
  {
   "cell_type": "code",
   "execution_count": 8,
   "metadata": {},
   "outputs": [
    {
     "data": {
      "text/html": [
       "<div>\n",
       "<style scoped>\n",
       "    .dataframe tbody tr th:only-of-type {\n",
       "        vertical-align: middle;\n",
       "    }\n",
       "\n",
       "    .dataframe tbody tr th {\n",
       "        vertical-align: top;\n",
       "    }\n",
       "\n",
       "    .dataframe thead th {\n",
       "        text-align: right;\n",
       "    }\n",
       "</style>\n",
       "<table border=\"1\" class=\"dataframe\">\n",
       "  <thead>\n",
       "    <tr style=\"text-align: right;\">\n",
       "      <th></th>\n",
       "      <th>No.</th>\n",
       "      <th>Reg. No.</th>\n",
       "      <th>TK No.</th>\n",
       "      <th>Driver's No.</th>\n",
       "      <th>Qty Loaded</th>\n",
       "      <th>Qty Delivered</th>\n",
       "      <th>Unit Rate</th>\n",
       "      <th>Sales Revenue</th>\n",
       "      <th>Trip Allowance</th>\n",
       "      <th>Loading Fee</th>\n",
       "      <th>Qty Issued</th>\n",
       "      <th>Diesel Trip</th>\n",
       "      <th>KM Covered</th>\n",
       "      <th>Cost Of Diesel</th>\n",
       "    </tr>\n",
       "  </thead>\n",
       "  <tbody>\n",
       "    <tr>\n",
       "      <th>count</th>\n",
       "      <td>12405.000000</td>\n",
       "      <td>0.0</td>\n",
       "      <td>0.0</td>\n",
       "      <td>12405.000000</td>\n",
       "      <td>12405.000000</td>\n",
       "      <td>12405.000000</td>\n",
       "      <td>12168.000000</td>\n",
       "      <td>1.240300e+04</td>\n",
       "      <td>11254.000000</td>\n",
       "      <td>10436.000000</td>\n",
       "      <td>12262.000000</td>\n",
       "      <td>9971.000000</td>\n",
       "      <td>12284.000000</td>\n",
       "      <td>12260.000000</td>\n",
       "    </tr>\n",
       "    <tr>\n",
       "      <th>mean</th>\n",
       "      <td>6203.000000</td>\n",
       "      <td>NaN</td>\n",
       "      <td>NaN</td>\n",
       "      <td>11666.306247</td>\n",
       "      <td>22501.673519</td>\n",
       "      <td>22507.293833</td>\n",
       "      <td>900.410326</td>\n",
       "      <td>1.712804e+05</td>\n",
       "      <td>11056.427492</td>\n",
       "      <td>6906.511115</td>\n",
       "      <td>163.138242</td>\n",
       "      <td>172.196793</td>\n",
       "      <td>336.780110</td>\n",
       "      <td>26647.614640</td>\n",
       "    </tr>\n",
       "    <tr>\n",
       "      <th>std</th>\n",
       "      <td>3581.159379</td>\n",
       "      <td>NaN</td>\n",
       "      <td>NaN</td>\n",
       "      <td>1315.445376</td>\n",
       "      <td>19649.191235</td>\n",
       "      <td>19648.539925</td>\n",
       "      <td>6079.101627</td>\n",
       "      <td>1.863637e+05</td>\n",
       "      <td>33413.034728</td>\n",
       "      <td>5674.216056</td>\n",
       "      <td>260.096416</td>\n",
       "      <td>275.899500</td>\n",
       "      <td>568.909352</td>\n",
       "      <td>49325.181946</td>\n",
       "    </tr>\n",
       "    <tr>\n",
       "      <th>min</th>\n",
       "      <td>1.000000</td>\n",
       "      <td>NaN</td>\n",
       "      <td>NaN</td>\n",
       "      <td>10030.000000</td>\n",
       "      <td>40.000000</td>\n",
       "      <td>40.000000</td>\n",
       "      <td>0.000000</td>\n",
       "      <td>0.000000e+00</td>\n",
       "      <td>0.000000</td>\n",
       "      <td>0.000000</td>\n",
       "      <td>0.000000</td>\n",
       "      <td>0.000000</td>\n",
       "      <td>0.000000</td>\n",
       "      <td>0.000000</td>\n",
       "    </tr>\n",
       "    <tr>\n",
       "      <th>25%</th>\n",
       "      <td>3102.000000</td>\n",
       "      <td>NaN</td>\n",
       "      <td>NaN</td>\n",
       "      <td>10939.000000</td>\n",
       "      <td>40.000000</td>\n",
       "      <td>40.000000</td>\n",
       "      <td>2.140000</td>\n",
       "      <td>4.708000e+04</td>\n",
       "      <td>3000.000000</td>\n",
       "      <td>2000.000000</td>\n",
       "      <td>22.500000</td>\n",
       "      <td>22.500000</td>\n",
       "      <td>22.500000</td>\n",
       "      <td>276.750000</td>\n",
       "    </tr>\n",
       "    <tr>\n",
       "      <th>50%</th>\n",
       "      <td>6203.000000</td>\n",
       "      <td>NaN</td>\n",
       "      <td>NaN</td>\n",
       "      <td>11734.000000</td>\n",
       "      <td>22000.000000</td>\n",
       "      <td>22000.000000</td>\n",
       "      <td>7.650000</td>\n",
       "      <td>9.630000e+04</td>\n",
       "      <td>5000.000000</td>\n",
       "      <td>5850.000000</td>\n",
       "      <td>22.500000</td>\n",
       "      <td>22.500000</td>\n",
       "      <td>50.000000</td>\n",
       "      <td>4279.500000</td>\n",
       "    </tr>\n",
       "    <tr>\n",
       "      <th>75%</th>\n",
       "      <td>9304.000000</td>\n",
       "      <td>NaN</td>\n",
       "      <td>NaN</td>\n",
       "      <td>12399.000000</td>\n",
       "      <td>44998.000000</td>\n",
       "      <td>44998.000000</td>\n",
       "      <td>183.000000</td>\n",
       "      <td>2.398940e+05</td>\n",
       "      <td>10000.000000</td>\n",
       "      <td>11600.000000</td>\n",
       "      <td>198.000000</td>\n",
       "      <td>216.450000</td>\n",
       "      <td>282.000000</td>\n",
       "      <td>26014.500000</td>\n",
       "    </tr>\n",
       "    <tr>\n",
       "      <th>max</th>\n",
       "      <td>12405.000000</td>\n",
       "      <td>NaN</td>\n",
       "      <td>NaN</td>\n",
       "      <td>126704.000000</td>\n",
       "      <td>45068.000000</td>\n",
       "      <td>45068.000000</td>\n",
       "      <td>214891.500000</td>\n",
       "      <td>1.552956e+06</td>\n",
       "      <td>605000.000000</td>\n",
       "      <td>28000.000000</td>\n",
       "      <td>1457.100000</td>\n",
       "      <td>1457.100000</td>\n",
       "      <td>3238.000000</td>\n",
       "      <td>277140.420000</td>\n",
       "    </tr>\n",
       "  </tbody>\n",
       "</table>\n",
       "</div>"
      ],
      "text/plain": [
       "                No.  Reg. No.  TK No.   Driver's No.    Qty Loaded  \\\n",
       "count  12405.000000       0.0     0.0   12405.000000  12405.000000   \n",
       "mean    6203.000000       NaN     NaN   11666.306247  22501.673519   \n",
       "std     3581.159379       NaN     NaN    1315.445376  19649.191235   \n",
       "min        1.000000       NaN     NaN   10030.000000     40.000000   \n",
       "25%     3102.000000       NaN     NaN   10939.000000     40.000000   \n",
       "50%     6203.000000       NaN     NaN   11734.000000  22000.000000   \n",
       "75%     9304.000000       NaN     NaN   12399.000000  44998.000000   \n",
       "max    12405.000000       NaN     NaN  126704.000000  45068.000000   \n",
       "\n",
       "       Qty Delivered      Unit Rate  Sales Revenue  Trip Allowance  \\\n",
       "count   12405.000000   12168.000000   1.240300e+04    11254.000000   \n",
       "mean    22507.293833     900.410326   1.712804e+05    11056.427492   \n",
       "std     19648.539925    6079.101627   1.863637e+05    33413.034728   \n",
       "min        40.000000       0.000000   0.000000e+00        0.000000   \n",
       "25%        40.000000       2.140000   4.708000e+04     3000.000000   \n",
       "50%     22000.000000       7.650000   9.630000e+04     5000.000000   \n",
       "75%     44998.000000     183.000000   2.398940e+05    10000.000000   \n",
       "max     45068.000000  214891.500000   1.552956e+06   605000.000000   \n",
       "\n",
       "        Loading Fee    Qty Issued  Diesel Trip    KM Covered  Cost Of Diesel  \n",
       "count  10436.000000  12262.000000  9971.000000  12284.000000    12260.000000  \n",
       "mean    6906.511115    163.138242   172.196793    336.780110    26647.614640  \n",
       "std     5674.216056    260.096416   275.899500    568.909352    49325.181946  \n",
       "min        0.000000      0.000000     0.000000      0.000000        0.000000  \n",
       "25%     2000.000000     22.500000    22.500000     22.500000      276.750000  \n",
       "50%     5850.000000     22.500000    22.500000     50.000000     4279.500000  \n",
       "75%    11600.000000    198.000000   216.450000    282.000000    26014.500000  \n",
       "max    28000.000000   1457.100000  1457.100000   3238.000000   277140.420000  "
      ]
     },
     "execution_count": 8,
     "metadata": {},
     "output_type": "execute_result"
    }
   ],
   "source": [
    "df.describe()"
   ]
  },
  {
   "cell_type": "code",
   "execution_count": 9,
   "metadata": {},
   "outputs": [],
   "source": [
    "#correlation_matrix"
   ]
  },
  {
   "cell_type": "code",
   "execution_count": 10,
   "metadata": {},
   "outputs": [
    {
     "data": {
      "image/png": "[encoded data removed]",
      "text/plain": [
       "<Figure size 720x576 with 2 Axes>"
      ]
     },
     "metadata": {
      "needs_background": "light"
     },
     "output_type": "display_data"
    }
   ],
   "source": [
    "import seaborn as sns\n",
    "correlation_matrix=df.corr()\n",
    "plt.figure(figsize=(10,8))\n",
    "sns.heatmap(correlation_matrix, annot=True,cmap='coolwarm')\n",
    "plt.title('Features Correlation')\n",
    "plt.show()"
   ]
  },
  {
   "cell_type": "code",
   "execution_count": 11,
   "metadata": {},
   "outputs": [
    {
     "data": {
      "text/plain": [
       "No.                           0\n",
       "Loading Date                  0\n",
       "Dispatch Date                 0\n",
       "Expected Delivery Date        0\n",
       "Actual Delivery Date          0\n",
       "TNo                           0\n",
       "Reg. No.                  12405\n",
       "TK No.                    12405\n",
       "Contract                      0\n",
       "Driver's No.                  0\n",
       "Driver's Name                 0\n",
       "Logistics Coord.           1373\n",
       "Loading Depot                 0\n",
       "Product                       0\n",
       "Waybill                    1406\n",
       "Qty Loaded                    0\n",
       "Qty Delivered                 0\n",
       "Unit Rate                   237\n",
       "Sales Revenue                 2\n",
       "Trip Allowance             1151\n",
       "Loading Fee                1969\n",
       "Destination                   0\n",
       "Client                      152\n",
       "Trip Type                    31\n",
       "Issuing Station            3668\n",
       "Qty Issued                  143\n",
       "Docket No.                 6004\n",
       "Diesel Trip                2434\n",
       "KM Covered                  121\n",
       "Cost Of Diesel              145\n",
       "Km Bands                      0\n",
       "dtype: int64"
      ]
     },
     "execution_count": 11,
     "metadata": {},
     "output_type": "execute_result"
    }
   ],
   "source": [
    "#Finding the sum of null values in each column of the dataset\n",
    "df.isna().sum()"
   ]
  },
  {
   "cell_type": "code",
   "execution_count": 12,
   "metadata": {},
   "outputs": [],
   "source": [
    "df_file='Cleaned_tsl_dataset.xlsx'\n",
    "df.to_excel(df_file,sheet_name='Cleaned_tsl_dataset')"
   ]
  },
  {
   "cell_type": "code",
   "execution_count": 13,
   "metadata": {},
   "outputs": [
    {
     "name": "stdout",
     "output_type": "stream",
     "text": [
      "['No.', 'Loading Date', 'Dispatch Date', 'Expected Delivery Date', 'Actual Delivery Date', 'TNo', 'Reg. No.', 'TK No.', 'Contract', \"Driver's No.\", \"Driver's Name\", 'Logistics Coord.', 'Loading Depot', 'Product', 'Waybill', 'Qty Loaded', 'Qty Delivered', 'Unit Rate', 'Sales Revenue', 'Trip Allowance', 'Loading Fee', 'Destination', 'Client', 'Trip Type', 'Issuing Station', 'Qty Issued', 'Docket No.', 'Diesel Trip', 'KM Covered', 'Cost Of Diesel', 'Km Bands']\n"
     ]
    }
   ],
   "source": [
    "#Exploring all the table column names\n",
    "print(df.columns.tolist())"
   ]
  },
  {
   "cell_type": "markdown",
   "metadata": {},
   "source": [
    "#Analyzing the Categorical Features\n",
    "For Exploring Analytical Features"
   ]
  },
  {
   "cell_type": "markdown",
   "metadata": {},
   "source": [
    "# How many trips do we have within the Km bands in chart\n",
    ":"
   ]
  },
  {
   "cell_type": "code",
   "execution_count": 14,
   "metadata": {},
   "outputs": [
    {
     "data": {
      "image/png": "[encoded data removed]",
      "text/plain": [
       "<Figure size 576x432 with 1 Axes>"
      ]
     },
     "metadata": {
      "needs_background": "light"
     },
     "output_type": "display_data"
    }
   ],
   "source": [
    "plt.figure(figsize=(8,6))\n",
    "df['Km Bands'].value_counts().plot(kind='bar')\n",
    "plt.xlabel('Category')\n",
    "plt.ylabel('Count')\n",
    "plt.title('Distribution of Loading Km Bands')\n",
    "plt.show()"
   ]
  },
  {
   "cell_type": "code",
   "execution_count": 15,
   "metadata": {},
   "outputs": [
    {
     "data": {
      "text/plain": [
       "200 - 500kms       1322\n",
       "50 - 200kms        5105\n",
       "500 - 1000kms       966\n",
       "Above 1000kms      1798\n",
       "Less than 50kms    3214\n",
       "Name: Km Bands, dtype: int64"
      ]
     },
     "execution_count": 15,
     "metadata": {},
     "output_type": "execute_result"
    }
   ],
   "source": [
    "km_bands_counts= df['Km Bands'].value_counts().sort_index()\n",
    "km_bands_counts"
   ]
  },
  {
   "cell_type": "code",
   "execution_count": 16,
   "metadata": {},
   "outputs": [],
   "source": [
    "km_bands_counts_file='Trips thin KM.xlsx'\n",
    "km_bands_counts.to_excel(km_bands_counts_file,sheet_name='Trips within KM')"
   ]
  },
  {
   "cell_type": "markdown",
   "metadata": {},
   "source": [
    "# 1b. How many trips do we have within the KM Bands?"
   ]
  },
  {
   "cell_type": "code",
   "execution_count": 17,
   "metadata": {},
   "outputs": [
    {
     "data": {
      "image/png": "[encoded data removed]",
      "text/plain": [
       "<Figure size 576x432 with 1 Axes>"
      ]
     },
     "metadata": {
      "needs_background": "light"
     },
     "output_type": "display_data"
    }
   ],
   "source": [
    "groupedd_kmtrip= df.groupby(['Km Bands','Trip Type']).size().unstack()\n",
    "\n",
    "groupedd_kmtrip.plot(kind='bar', stacked=True, figsize=(8,6))\n",
    "plt.xlabel('Category')\n",
    "plt.ylabel('Count')\n",
    "plt.title('Distribution of Trip')\n",
    "plt.show()"
   ]
  },
  {
   "cell_type": "code",
   "execution_count": 18,
   "metadata": {},
   "outputs": [
    {
     "data": {
      "text/html": [
       "<div>\n",
       "<style scoped>\n",
       "    .dataframe tbody tr th:only-of-type {\n",
       "        vertical-align: middle;\n",
       "    }\n",
       "\n",
       "    .dataframe tbody tr th {\n",
       "        vertical-align: top;\n",
       "    }\n",
       "\n",
       "    .dataframe thead th {\n",
       "        text-align: right;\n",
       "    }\n",
       "</style>\n",
       "<table border=\"1\" class=\"dataframe\">\n",
       "  <thead>\n",
       "    <tr style=\"text-align: right;\">\n",
       "      <th>Trip Type</th>\n",
       "      <th>0</th>\n",
       "      <th>BRIDGING</th>\n",
       "      <th>Bridging</th>\n",
       "      <th>INTERDISTRICT</th>\n",
       "      <th>Interdistrict</th>\n",
       "      <th>LOCAL</th>\n",
       "      <th>Local</th>\n",
       "      <th>interdistrict-west</th>\n",
       "    </tr>\n",
       "    <tr>\n",
       "      <th>Km Bands</th>\n",
       "      <th></th>\n",
       "      <th></th>\n",
       "      <th></th>\n",
       "      <th></th>\n",
       "      <th></th>\n",
       "      <th></th>\n",
       "      <th></th>\n",
       "      <th></th>\n",
       "    </tr>\n",
       "  </thead>\n",
       "  <tbody>\n",
       "    <tr>\n",
       "      <th>200 - 500kms</th>\n",
       "      <td>8.0</td>\n",
       "      <td>4.0</td>\n",
       "      <td>33.0</td>\n",
       "      <td>1127.0</td>\n",
       "      <td>NaN</td>\n",
       "      <td>89.0</td>\n",
       "      <td>9.0</td>\n",
       "      <td>52.0</td>\n",
       "    </tr>\n",
       "    <tr>\n",
       "      <th>50 - 200kms</th>\n",
       "      <td>125.0</td>\n",
       "      <td>3.0</td>\n",
       "      <td>NaN</td>\n",
       "      <td>1001.0</td>\n",
       "      <td>1.0</td>\n",
       "      <td>1828.0</td>\n",
       "      <td>2052.0</td>\n",
       "      <td>95.0</td>\n",
       "    </tr>\n",
       "    <tr>\n",
       "      <th>500 - 1000kms</th>\n",
       "      <td>2.0</td>\n",
       "      <td>82.0</td>\n",
       "      <td>162.0</td>\n",
       "      <td>604.0</td>\n",
       "      <td>NaN</td>\n",
       "      <td>NaN</td>\n",
       "      <td>NaN</td>\n",
       "      <td>116.0</td>\n",
       "    </tr>\n",
       "    <tr>\n",
       "      <th>Above 1000kms</th>\n",
       "      <td>24.0</td>\n",
       "      <td>441.0</td>\n",
       "      <td>1207.0</td>\n",
       "      <td>4.0</td>\n",
       "      <td>1.0</td>\n",
       "      <td>3.0</td>\n",
       "      <td>96.0</td>\n",
       "      <td>13.0</td>\n",
       "    </tr>\n",
       "    <tr>\n",
       "      <th>Less than 50kms</th>\n",
       "      <td>1.0</td>\n",
       "      <td>NaN</td>\n",
       "      <td>22.0</td>\n",
       "      <td>392.0</td>\n",
       "      <td>NaN</td>\n",
       "      <td>1541.0</td>\n",
       "      <td>1215.0</td>\n",
       "      <td>21.0</td>\n",
       "    </tr>\n",
       "  </tbody>\n",
       "</table>\n",
       "</div>"
      ],
      "text/plain": [
       "Trip Type            0  BRIDGING  Bridging  INTERDISTRICT  Interdistrict  \\\n",
       "Km Bands                                                                   \n",
       "200 - 500kms       8.0       4.0      33.0         1127.0            NaN   \n",
       "50 - 200kms      125.0       3.0       NaN         1001.0            1.0   \n",
       "500 - 1000kms      2.0      82.0     162.0          604.0            NaN   \n",
       "Above 1000kms     24.0     441.0    1207.0            4.0            1.0   \n",
       "Less than 50kms    1.0       NaN      22.0          392.0            NaN   \n",
       "\n",
       "Trip Type         LOCAL   Local  interdistrict-west  \n",
       "Km Bands                                             \n",
       "200 - 500kms       89.0     9.0                52.0  \n",
       "50 - 200kms      1828.0  2052.0                95.0  \n",
       "500 - 1000kms       NaN     NaN               116.0  \n",
       "Above 1000kms       3.0    96.0                13.0  \n",
       "Less than 50kms  1541.0  1215.0                21.0  "
      ]
     },
     "execution_count": 18,
     "metadata": {},
     "output_type": "execute_result"
    }
   ],
   "source": [
    "groupedd_kmtrip"
   ]
  },
  {
   "cell_type": "code",
   "execution_count": null,
   "metadata": {},
   "outputs": [],
   "source": []
  },
  {
   "cell_type": "markdown",
   "metadata": {},
   "source": [
    "# 2a. Identifying High flyers products based on volumes(tons), trips, Kilometers(kms), and revenue"
   ]
  },
  {
   "cell_type": "markdown",
   "metadata": {},
   "source": [
    "# Volume(Tons)"
   ]
  },
  {
   "cell_type": "code",
   "execution_count": 19,
   "metadata": {},
   "outputs": [
    {
     "data": {
      "text/plain": [
       "0         8.850000\n",
       "1         4.425000\n",
       "2        40.000000\n",
       "3        40.000000\n",
       "4        40.000000\n",
       "           ...    \n",
       "12400    16.214000\n",
       "12401     8.107000\n",
       "12402    24.321000\n",
       "12403    16.214000\n",
       "12404     8.107737\n",
       "Name: Qty Delivered in Tons, Length: 12405, dtype: float64"
      ]
     },
     "execution_count": 19,
     "metadata": {},
     "output_type": "execute_result"
    }
   ],
   "source": [
    "#converting volumes in litres to tons\n",
    "conversion_factors={\n",
    "    'CEMENT':1,\n",
    "    'AGO':0.000885,\n",
    "    'ATK':0.00084,\n",
    "    'PMS':0.000737,\n",
    "    'PMSAGO':0.000737\n",
    "}\n",
    "\n",
    "df['Qty Delivered in Tons']=df.apply(lambda row: row['Qty Delivered']* conversion_factors[row['Product']],axis=1)\n",
    "\n",
    "df['Qty Delivered in Tons']"
   ]
  },
  {
   "cell_type": "code",
   "execution_count": 20,
   "metadata": {},
   "outputs": [
    {
     "data": {
      "image/png": "[encoded data removed]",
      "text/plain": [
       "<Figure size 720x432 with 1 Axes>"
      ]
     },
     "metadata": {
      "needs_background": "light"
     },
     "output_type": "display_data"
    }
   ],
   "source": [
    "grouped_QD=df.groupby('Product')['Qty Delivered in Tons'].sum()\n",
    "\n",
    "plt.figure(figsize=(10,6))\n",
    "grouped_QD.plot(kind='bar')\n",
    "plt.xlabel('Product')\n",
    "plt.ylabel('Qty Delivered in Tons')\n",
    "plt.title('Distribution of Qty Delivered in Tons on product')\n",
    "plt.xticks(rotation=45)\n",
    "plt.show()"
   ]
  },
  {
   "cell_type": "code",
   "execution_count": 21,
   "metadata": {},
   "outputs": [
    {
     "data": {
      "text/plain": [
       "Product\n",
       "AGO        14040.047985\n",
       "ATK        58334.286360\n",
       "CEMENT    176640.000000\n",
       "PMS       128150.080322\n",
       "PMSAGO     14618.832778\n",
       "Name: Qty Delivered in Tons, dtype: float64"
      ]
     },
     "execution_count": 21,
     "metadata": {},
     "output_type": "execute_result"
    }
   ],
   "source": [
    "grouped_QD"
   ]
  },
  {
   "cell_type": "code",
   "execution_count": 22,
   "metadata": {},
   "outputs": [],
   "source": [
    "grouped_QD_file='Highflyers_on Volume.xlsx'\n",
    "grouped_QD.to_excel(grouped_QD_file,sheet_name='Highflyers_on Volume')"
   ]
  },
  {
   "cell_type": "markdown",
   "metadata": {},
   "source": [
    "# Sales Revenue"
   ]
  },
  {
   "cell_type": "code",
   "execution_count": 23,
   "metadata": {},
   "outputs": [
    {
     "data": {
      "image/png": "[encoded data removed]",
      "text/plain": [
       "<Figure size 720x432 with 1 Axes>"
      ]
     },
     "metadata": {
      "needs_background": "light"
     },
     "output_type": "display_data"
    }
   ],
   "source": [
    "grouped_SR=df.groupby('Product')['Sales Revenue'].sum()\n",
    "plt.figure(figsize=(10,6))\n",
    "grouped_SR.plot(kind='bar')\n",
    "plt.xlabel('Product')\n",
    "plt.ylabel('Sales revenue')\n",
    "plt.title('Distribution of sales on product')\n",
    "plt.xticks(rotation=45)\n",
    "plt.show()"
   ]
  },
  {
   "cell_type": "code",
   "execution_count": 24,
   "metadata": {},
   "outputs": [
    {
     "data": {
      "text/plain": [
       "Product\n",
       "AGO       1.395059e+08\n",
       "ATK       3.570430e+08\n",
       "CEMENT    7.186364e+08\n",
       "PMS       8.280603e+08\n",
       "PMSAGO    8.114475e+07\n",
       "Name: Sales Revenue, dtype: float64"
      ]
     },
     "execution_count": 24,
     "metadata": {},
     "output_type": "execute_result"
    }
   ],
   "source": [
    "grouped_SR"
   ]
  },
  {
   "cell_type": "code",
   "execution_count": 25,
   "metadata": {},
   "outputs": [],
   "source": [
    "grouped_SR_file='Highflyers_on Sales.xlsx'\n",
    "grouped_SR.to_excel(grouped_QD_file,sheet_name='Highflyers_on Sales')"
   ]
  },
  {
   "cell_type": "markdown",
   "metadata": {},
   "source": [
    "# KM Covered"
   ]
  },
  {
   "cell_type": "code",
   "execution_count": 26,
   "metadata": {},
   "outputs": [
    {
     "data": {
      "image/png": "[encoded data removed]",
      "text/plain": [
       "<Figure size 720x432 with 1 Axes>"
      ]
     },
     "metadata": {
      "needs_background": "light"
     },
     "output_type": "display_data"
    }
   ],
   "source": [
    "grouped_KM=df.groupby('Product')['KM Covered'].sum()\n",
    "\n",
    "plt.figure(figsize=(10,6))\n",
    "grouped_KM.plot(kind='bar')\n",
    "plt.xlabel('Product')\n",
    "plt.ylabel('KM Covered')\n",
    "plt.title('Distribution of Qty Delivered on KM Covered')\n",
    "plt.xticks(rotation=45)\n",
    "plt.show()"
   ]
  },
  {
   "cell_type": "code",
   "execution_count": 27,
   "metadata": {},
   "outputs": [],
   "source": [
    "grouped_KM_file='Highflyers_on KM.xlsx'\n",
    "grouped_KM.to_excel(grouped_QD_file,sheet_name='Highflyers_on KM')"
   ]
  },
  {
   "cell_type": "markdown",
   "metadata": {},
   "source": [
    "# TRip Allowance"
   ]
  },
  {
   "cell_type": "code",
   "execution_count": 28,
   "metadata": {},
   "outputs": [
    {
     "data": {
      "image/png": "[encoded data removed]",
      "text/plain": [
       "<Figure size 720x432 with 1 Axes>"
      ]
     },
     "metadata": {
      "needs_background": "light"
     },
     "output_type": "display_data"
    }
   ],
   "source": [
    "grouped_TA=df.groupby('Product')['Trip Allowance'].sum()\n",
    "plt.figure(figsize=(10,6))\n",
    "grouped_TA.plot(kind='bar')\n",
    "plt.xlabel('Product')\n",
    "plt.ylabel('Trip Allowance')\n",
    "plt.title('Distribution of Qty Delivered on Trip Allowance')\n",
    "plt.xticks(rotation=45)\n",
    "plt.show()"
   ]
  },
  {
   "cell_type": "code",
   "execution_count": 29,
   "metadata": {},
   "outputs": [
    {
     "data": {
      "text/plain": [
       "Product\n",
       "AGO        6716110.0\n",
       "ATK       23933645.0\n",
       "CEMENT    32817000.0\n",
       "PMS       58696660.0\n",
       "PMSAGO     2265620.0\n",
       "Name: Trip Allowance, dtype: float64"
      ]
     },
     "execution_count": 29,
     "metadata": {},
     "output_type": "execute_result"
    }
   ],
   "source": [
    "grouped_TA"
   ]
  },
  {
   "cell_type": "code",
   "execution_count": 30,
   "metadata": {},
   "outputs": [],
   "source": [
    "grouped_TA_file='Highflyers_on Trips.xlsx'\n",
    "grouped_TA.to_excel(grouped_QD_file,sheet_name='Highflyers_on Trips')"
   ]
  },
  {
   "cell_type": "markdown",
   "metadata": {},
   "source": [
    "# Top 10 drivers That generate the most revenue"
   ]
  },
  {
   "cell_type": "code",
   "execution_count": 31,
   "metadata": {},
   "outputs": [
    {
     "name": "stdout",
     "output_type": "stream",
     "text": [
      "Driver's Name\n",
      "Mathias Bradley       5.613837e+07\n",
      "Kylie Allison         1.840988e+07\n",
      "Brendon Reeves        1.797299e+07\n",
      "Melina Mitchell       1.739252e+07\n",
      "Heather Villanueva    1.676516e+07\n",
      "Jaliyah Parker        1.557031e+07\n",
      "Gilbert Melton        1.551920e+07\n",
      "Karly Swanson         1.523779e+07\n",
      "Justice Francis       1.496998e+07\n",
      "Cierra Adams          1.482477e+07\n",
      "Name: Sales Revenue, dtype: float64\n"
     ]
    }
   ],
   "source": [
    "grouped_driver_revenue=df.groupby('Driver\\'s Name')['Sales Revenue'].sum()\n",
    "top_10_drivers=grouped_driver_revenue.nlargest(10)\n",
    "print(top_10_drivers)"
   ]
  },
  {
   "cell_type": "code",
   "execution_count": 32,
   "metadata": {},
   "outputs": [],
   "source": [
    "grouped_driver_revenue_file='Top_10_drivers.xlsx'\n",
    "grouped_driver_revenue.to_excel(grouped_driver_revenue_file,sheet_name='Top_10_drivers')"
   ]
  },
  {
   "cell_type": "markdown",
   "metadata": {},
   "source": [
    "# Top 5 Contractors that Generate the most revenue"
   ]
  },
  {
   "cell_type": "code",
   "execution_count": 33,
   "metadata": {},
   "outputs": [
    {
     "name": "stdout",
     "output_type": "stream",
     "text": [
      "Contract\n",
      "CARDINAL FUELS NG    7.235385e+08\n",
      "NAIJA CEMENT         4.505530e+08\n",
      "TEXACO-ATK           2.716233e+08\n",
      "CEMENT CO NIG        2.680834e+08\n",
      "TEXACO-50            1.705850e+08\n",
      "Name: Sales Revenue, dtype: float64\n"
     ]
    }
   ],
   "source": [
    "grouped_contract_revenue=df.groupby('Contract')['Sales Revenue'].sum()\n",
    "top_5_contract=grouped_contract_revenue.nlargest(5)\n",
    "print(top_5_contract)"
   ]
  },
  {
   "cell_type": "code",
   "execution_count": 34,
   "metadata": {},
   "outputs": [
    {
     "data": {
      "text/plain": [
       "Contract\n",
       "CARDINAL FUELS NG    7.235385e+08\n",
       "CEMENT CO NIG        2.680834e+08\n",
       "GE OIL & GAS         7.962480e+07\n",
       "NAIJA CEMENT         4.505530e+08\n",
       "TEXACO-50            1.705850e+08\n",
       "TEXACO-ATK           2.716233e+08\n",
       "TEXACO-EVAP          2.776350e+06\n",
       "TEXACO-PMS           1.576060e+08\n",
       "Name: Sales Revenue, dtype: float64"
      ]
     },
     "execution_count": 34,
     "metadata": {},
     "output_type": "execute_result"
    }
   ],
   "source": [
    "grouped_contract_revenue"
   ]
  },
  {
   "cell_type": "code",
   "execution_count": 35,
   "metadata": {},
   "outputs": [],
   "source": [
    "grouped_contract_revenue_file='Top_5_Contract.xlsx'\n",
    "grouped_contract_revenue.to_excel(grouped_contract_revenue_file,sheet_name='Top_5_Contract')"
   ]
  },
  {
   "cell_type": "markdown",
   "metadata": {},
   "source": [
    "#  What month of the year the highest revenue was generated"
   ]
  },
  {
   "cell_type": "code",
   "execution_count": 36,
   "metadata": {},
   "outputs": [
    {
     "name": "stdout",
     "output_type": "stream",
     "text": [
      "2\n",
      "February\n"
     ]
    },
    {
     "data": {
      "text/plain": [
       "month\n",
       "1     4.163147e+08\n",
       "2     4.417745e+08\n",
       "3     1.607936e+08\n",
       "4     1.526136e+08\n",
       "5     1.188170e+08\n",
       "6     1.354400e+08\n",
       "7     1.170918e+08\n",
       "8     1.052606e+08\n",
       "9     1.373569e+08\n",
       "10    1.553632e+08\n",
       "11    1.766464e+08\n",
       "12    6.918089e+06\n",
       "Name: Sales Revenue, dtype: float64"
      ]
     },
     "execution_count": 36,
     "metadata": {},
     "output_type": "execute_result"
    }
   ],
   "source": [
    "df['Loading Date']=pd.to_datetime(df['Loading Date'])\n",
    "df['month']=df['Loading Date'].dt.month\n",
    "grouped_month_data=df.groupby('month')['Sales Revenue'].sum()\n",
    "highest_revenue_month = grouped_month_data.idxmax()\n",
    "print(highest_revenue_month)\n",
    "month_names=['January','February', 'March','April','May', 'June', 'July','August','September', 'october',\n",
    "             'November', 'December']\n",
    "highest_revenue_month_names=month_names[highest_revenue_month-1]\n",
    "print(highest_revenue_month_names)\n",
    "grouped_month_data"
   ]
  },
  {
   "cell_type": "code",
   "execution_count": 37,
   "metadata": {},
   "outputs": [
    {
     "name": "stdout",
     "output_type": "stream",
     "text": [
      "2\n"
     ]
    }
   ],
   "source": [
    "df['Actual Delivery Date']=pd.to_datetime(df['Actual Delivery Date'])\n",
    "df['month']=df['Actual Delivery Date'].dt.month\n",
    "grouped_month_data=df.groupby('month')['Sales Revenue'].sum()\n",
    "highest_revenue_month = grouped_month_data.idxmax()\n",
    "print(highest_revenue_month)"
   ]
  },
  {
   "cell_type": "code",
   "execution_count": 38,
   "metadata": {},
   "outputs": [
    {
     "data": {
      "text/plain": [
       "month\n",
       "1     3.958256e+08\n",
       "2     4.295533e+08\n",
       "3     1.774398e+08\n",
       "4     1.421377e+08\n",
       "5     1.316192e+08\n",
       "6     1.388379e+08\n",
       "7     1.203245e+08\n",
       "8     1.056031e+08\n",
       "9     1.183783e+08\n",
       "10    1.699816e+08\n",
       "11    1.791707e+08\n",
       "12    1.551878e+07\n",
       "Name: Sales Revenue, dtype: float64"
      ]
     },
     "execution_count": 38,
     "metadata": {},
     "output_type": "execute_result"
    }
   ],
   "source": [
    "grouped_month_data"
   ]
  },
  {
   "cell_type": "code",
   "execution_count": 39,
   "metadata": {},
   "outputs": [],
   "source": [
    "grouped_month_data_file='Highest_Revenue_Month.xlsx'\n",
    "grouped_month_data.to_excel(grouped_month_data_file,sheet_name='Highest Revenue Month')"
   ]
  },
  {
   "cell_type": "markdown",
   "metadata": {},
   "source": [
    "# Efficiency Ratio"
   ]
  },
  {
   "cell_type": "markdown",
   "metadata": {},
   "source": [
    "# KM/Trip Covered Efficiency Ratio"
   ]
  },
  {
   "cell_type": "code",
   "execution_count": 41,
   "metadata": {},
   "outputs": [],
   "source": [
    "df['KM Covered Efficiency Ratio']=df['KM Covered']/df['Trip Allowance']"
   ]
  },
  {
   "cell_type": "code",
   "execution_count": 42,
   "metadata": {},
   "outputs": [
    {
     "data": {
      "text/plain": [
       "0        0.00500\n",
       "1            NaN\n",
       "2        0.01044\n",
       "3        0.00780\n",
       "4        0.00780\n",
       "          ...   \n",
       "12400    0.01000\n",
       "12401        NaN\n",
       "12402    0.01000\n",
       "12403    0.01000\n",
       "12404        NaN\n",
       "Name: KM Covered Efficiency Ratio, Length: 12405, dtype: float64"
      ]
     },
     "execution_count": 42,
     "metadata": {},
     "output_type": "execute_result"
    }
   ],
   "source": [
    "df['KM Covered Efficiency Ratio']"
   ]
  },
  {
   "cell_type": "code",
   "execution_count": null,
   "metadata": {},
   "outputs": [],
   "source": []
  }
 ],
 "metadata": {
  "kernelspec": {
   "display_name": "Python 3",
   "language": "python",
   "name": "python3"
  },
  "language_info": {
   "codemirror_mode": {
    "name": "ipython",
    "version": 3
   },
   "file_extension": ".py",
   "mimetype": "text/x-python",
   "name": "python",
   "nbconvert_exporter": "python",
   "pygments_lexer": "ipython3",
   "version": "3.7.4"
  }
 },
 "nbformat": 4,
 "nbformat_minor": 2
}
